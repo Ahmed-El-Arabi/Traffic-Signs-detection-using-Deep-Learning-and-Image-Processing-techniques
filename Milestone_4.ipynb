{
  "cells": [
    {
      "cell_type": "code",
      "execution_count": null,
      "metadata": {
        "colab": {
          "base_uri": "https://localhost:8080/"
        },
        "id": "BusRs581W4lN",
        "outputId": "f06e5bc1-3b5a-411d-f326-007d296649b0"
      },
      "outputs": [
        {
          "output_type": "stream",
          "name": "stdout",
          "text": [
            "Drive already mounted at /content/drive; to attempt to forcibly remount, call drive.mount(\"/content/drive\", force_remount=True).\n"
          ]
        }
      ],
      "source": [
        "from google.colab import drive\n",
        "drive.mount('/content/drive')"
      ]
    },
    {
      "cell_type": "code",
      "source": [
        "import tensorflow as tf\n",
        "import pickle\n",
        "physical_devices = tf.config.list_physical_devices('GPU') \n",
        "tf.config.experimental.set_memory_growth(physical_devices[0], True)\n",
        "import numpy as np\n",
        "from google.colab.patches import cv2_imshow\n",
        "import os\n",
        "import tqdm\n",
        "import cv2\n",
        "import matplotlib.pyplot as plt\n",
        "from PIL import Image \n",
        "from tensorflow.keras import Sequential, Model\n",
        "from tensorflow.python.client import device_lib\n",
        "from tensorflow.keras.models import load_model, save_model\n",
        "from tensorflow.keras.optimizers import Adam\n",
        "\n",
        "from tensorflow.keras.preprocessing.image import ImageDataGenerator, array_to_img, load_img, img_to_array\n",
        "from tensorflow.keras.losses import BinaryCrossentropy, CategoricalCrossentropy\n",
        "from tensorflow.keras.layers import Conv2D, MaxPool2D, Flatten, Dense, Dropout\n",
        "from keras.callbacks import TensorBoard\n",
        "import pandas\n",
        "from sklearn import model_selection\n",
        "from sklearn.linear_model import LogisticRegression\n",
        "from keras.models import Sequential\n",
        "from keras.layers import Dense\n",
        "from keras.models import model_from_json\n",
        "\n",
        "\n",
        "figsize = (2.5, 2.5)\n",
        "\n",
        "def plot_im(img, title):\n",
        "    plt.figure(figsize=figsize)\n",
        "    plt.imshow(img.astype('uint8'))\n",
        "    plt.title(title)\n",
        "    plt.xticks([])\n",
        "    plt.yticks([])\n",
        "    plt.show()"
      ],
      "metadata": {
        "id": "mAnrEqhFXI6d"
      },
      "execution_count": null,
      "outputs": []
    },
    {
      "cell_type": "code",
      "execution_count": null,
      "metadata": {
        "id": "aEGMztnxW4lQ",
        "colab": {
          "base_uri": "https://localhost:8080/"
        },
        "outputId": "1a83c775-aa34-42a7-c882-9ca879dbfc50"
      },
      "outputs": [
        {
          "output_type": "stream",
          "name": "stdout",
          "text": [
            "(34799, 32, 32, 3)\n",
            "(12630, 32, 32, 3)\n",
            "(4410, 32, 32, 3)\n"
          ]
        }
      ],
      "source": [
        "#train_dic = r'.\\data\\train.p'\n",
        "#test_dic  = r'.\\data\\test.p'\n",
        "#val_dic   = r'.\\valid.p'\n",
        "\n",
        "model_dir = '/content/model_dir'\n",
        "train = pickle.load(open('/content/drive/MyDrive/DATASET/train.p','rb'))\n",
        "test  = pickle.load(open('/content/drive/MyDrive/DATASET/test.p','rb'))\n",
        "val   = pickle.load(open('/content/drive/MyDrive/DATASET/valid.p', 'rb' ))\n",
        "\n",
        "\n",
        "\n",
        "x_train , y_train  = train['features'] , train['labels']\n",
        "x_test  , y_test   = test['features']  , test['labels']\n",
        "x_val   , y_val    = val['features']   , val['labels']\n",
        "\n",
        "\n",
        "y_train = tf.one_hot(y_train,43)\n",
        "y_test  = tf.one_hot(y_test,43)\n",
        "y_val   = tf.one_hot(y_val,43) \n",
        "print(x_train.shape)\n",
        "print(x_test.shape)\n",
        "print(x_val.shape)"
      ]
    },
    {
      "cell_type": "code",
      "execution_count": null,
      "metadata": {
        "id": "uCVAPaW2W4lS"
      },
      "outputs": [],
      "source": [
        "def create_model() :\n",
        "    model=Sequential()\n",
        "\n",
        "    model.add(Conv2D(filters = 256,  kernel_size = (5,5), padding='same', activation='relu', input_shape = (32, 32, 3)))\n",
        "    model.add(MaxPool2D(pool_size=(2, 2), padding = 'same'))\n",
        "\n",
        "    model.add(Conv2D(filters = 512, kernel_size = (5,5), padding='same', activation='relu'))\n",
        "    model.add(MaxPool2D(pool_size=(2, 2), padding = 'same'))\n",
        "\n",
        "    model.add(Conv2D(filters = 1024, kernel_size = (5,5), padding='same', activation='relu'))\n",
        "    model.add(MaxPool2D(pool_size=(2, 2), padding = 'same'))\n",
        "\n",
        "\n",
        "    model.add(Flatten())\n",
        "\n",
        "    model.add(Dense(units= 1024, activation='relu'))\n",
        "    model.add(Dropout(0.5))\n",
        "\n",
        "    model.add(Dense(units= 512, activation='relu'))\n",
        "    model.add(Dropout(0.5))\n",
        "\n",
        "    model.add(Dense(units= 256, activation='relu'))\n",
        "    model.add(Dropout(0.5))\n",
        "\n",
        "    model.add(Dense(units= 100, activation='relu'))\n",
        "\n",
        "    model.add(Dense(units= 43, activation='softmax'))\n",
        "\n",
        "    model.compile(optimizer= Adam(), loss= CategoricalCrossentropy() ,metrics='accuracy')\n",
        "\n",
        "    return model\n",
        "\n",
        "\n",
        "model = create_model()"
      ]
    },
    {
      "cell_type": "code",
      "execution_count": null,
      "metadata": {
        "jupyter": {
          "outputs_hidden": true
        },
        "colab": {
          "base_uri": "https://localhost:8080/"
        },
        "id": "ZgLHBm6kW4lX",
        "outputId": "16d6d74f-3c60-4bad-c98d-392cc24c08ec"
      },
      "outputs": [
        {
          "output_type": "stream",
          "name": "stdout",
          "text": [
            "Epoch 1/50\n",
            "68/68 [==============================] - 45s 462ms/step - loss: 6.3765 - accuracy: 0.0572 - val_loss: 3.4268 - val_accuracy: 0.1043\n",
            "Epoch 2/50\n",
            "68/68 [==============================] - 21s 304ms/step - loss: 3.0496 - accuracy: 0.1665 - val_loss: 2.3399 - val_accuracy: 0.3417\n",
            "Epoch 3/50\n",
            "68/68 [==============================] - 21s 310ms/step - loss: 1.9122 - accuracy: 0.4281 - val_loss: 1.4425 - val_accuracy: 0.5787\n",
            "Epoch 4/50\n",
            "68/68 [==============================] - 21s 313ms/step - loss: 1.1013 - accuracy: 0.6615 - val_loss: 0.7538 - val_accuracy: 0.8086\n",
            "Epoch 5/50\n",
            "68/68 [==============================] - 21s 315ms/step - loss: 0.5991 - accuracy: 0.8174 - val_loss: 0.4594 - val_accuracy: 0.8726\n",
            "Epoch 6/50\n",
            "68/68 [==============================] - 22s 318ms/step - loss: 0.3342 - accuracy: 0.8988 - val_loss: 0.3637 - val_accuracy: 0.9073\n",
            "Epoch 7/50\n",
            "68/68 [==============================] - 22s 319ms/step - loss: 0.2187 - accuracy: 0.9358 - val_loss: 0.3147 - val_accuracy: 0.9265\n",
            "Epoch 8/50\n",
            "68/68 [==============================] - 22s 323ms/step - loss: 0.1553 - accuracy: 0.9563 - val_loss: 0.3023 - val_accuracy: 0.9422\n",
            "Epoch 9/50\n",
            "68/68 [==============================] - 22s 325ms/step - loss: 0.1148 - accuracy: 0.9698 - val_loss: 0.2445 - val_accuracy: 0.9503\n",
            "Epoch 10/50\n",
            "68/68 [==============================] - 22s 323ms/step - loss: 0.0802 - accuracy: 0.9784 - val_loss: 0.2557 - val_accuracy: 0.9444\n",
            "Epoch 11/50\n",
            "68/68 [==============================] - 22s 321ms/step - loss: 0.0629 - accuracy: 0.9829 - val_loss: 0.3473 - val_accuracy: 0.9526\n",
            "Epoch 12/50\n",
            "68/68 [==============================] - 22s 322ms/step - loss: 0.0552 - accuracy: 0.9858 - val_loss: 0.2417 - val_accuracy: 0.9619\n",
            "Epoch 13/50\n",
            "68/68 [==============================] - 22s 323ms/step - loss: 0.0670 - accuracy: 0.9835 - val_loss: 0.2694 - val_accuracy: 0.9596\n",
            "Epoch 14/50\n",
            "68/68 [==============================] - 22s 323ms/step - loss: 0.0478 - accuracy: 0.9894 - val_loss: 0.2140 - val_accuracy: 0.9569\n",
            "Epoch 15/50\n",
            "68/68 [==============================] - 22s 323ms/step - loss: 0.0361 - accuracy: 0.9910 - val_loss: 0.2246 - val_accuracy: 0.9678\n",
            "Epoch 16/50\n",
            "68/68 [==============================] - 22s 323ms/step - loss: 0.0323 - accuracy: 0.9925 - val_loss: 0.1701 - val_accuracy: 0.9642\n",
            "Epoch 17/50\n",
            "68/68 [==============================] - 22s 322ms/step - loss: 0.0446 - accuracy: 0.9903 - val_loss: 0.1862 - val_accuracy: 0.9605\n",
            "Epoch 18/50\n",
            "68/68 [==============================] - 22s 321ms/step - loss: 0.0390 - accuracy: 0.9909 - val_loss: 0.1822 - val_accuracy: 0.9578\n",
            "Epoch 19/50\n",
            "68/68 [==============================] - 22s 322ms/step - loss: 0.0364 - accuracy: 0.9914 - val_loss: 0.2741 - val_accuracy: 0.9626\n",
            "Epoch 20/50\n",
            "68/68 [==============================] - 22s 322ms/step - loss: 0.0345 - accuracy: 0.9921 - val_loss: 0.2888 - val_accuracy: 0.9531\n",
            "Epoch 21/50\n",
            "68/68 [==============================] - 22s 322ms/step - loss: 0.0499 - accuracy: 0.9895 - val_loss: 0.2180 - val_accuracy: 0.9605\n",
            "Epoch 22/50\n",
            "68/68 [==============================] - 22s 322ms/step - loss: 0.0443 - accuracy: 0.9900 - val_loss: 0.1842 - val_accuracy: 0.9655\n",
            "Epoch 23/50\n",
            "68/68 [==============================] - 22s 321ms/step - loss: 0.0352 - accuracy: 0.9913 - val_loss: 0.2497 - val_accuracy: 0.9599\n",
            "Epoch 24/50\n",
            "68/68 [==============================] - 22s 321ms/step - loss: 0.0397 - accuracy: 0.9921 - val_loss: 0.1918 - val_accuracy: 0.9694\n",
            "Epoch 25/50\n",
            "68/68 [==============================] - 22s 322ms/step - loss: 0.0367 - accuracy: 0.9916 - val_loss: 0.2438 - val_accuracy: 0.9612\n",
            "Epoch 26/50\n",
            "68/68 [==============================] - 22s 322ms/step - loss: 0.0549 - accuracy: 0.9889 - val_loss: 0.3083 - val_accuracy: 0.9551\n",
            "Epoch 27/50\n",
            "68/68 [==============================] - 22s 322ms/step - loss: 0.0372 - accuracy: 0.9913 - val_loss: 0.2945 - val_accuracy: 0.9644\n",
            "Epoch 28/50\n",
            "68/68 [==============================] - 22s 322ms/step - loss: 0.0209 - accuracy: 0.9946 - val_loss: 0.3782 - val_accuracy: 0.9583\n",
            "Epoch 29/50\n",
            "68/68 [==============================] - 22s 322ms/step - loss: 0.0257 - accuracy: 0.9951 - val_loss: 0.2940 - val_accuracy: 0.9664\n",
            "Epoch 30/50\n",
            "68/68 [==============================] - 22s 322ms/step - loss: 0.0413 - accuracy: 0.9918 - val_loss: 0.4151 - val_accuracy: 0.9451\n",
            "Epoch 31/50\n",
            "68/68 [==============================] - 22s 321ms/step - loss: 0.0330 - accuracy: 0.9933 - val_loss: 0.3067 - val_accuracy: 0.9522\n",
            "Epoch 32/50\n",
            "68/68 [==============================] - 22s 321ms/step - loss: 0.0363 - accuracy: 0.9924 - val_loss: 0.2692 - val_accuracy: 0.9646\n",
            "Epoch 33/50\n",
            "68/68 [==============================] - 22s 320ms/step - loss: 0.0242 - accuracy: 0.9947 - val_loss: 0.2102 - val_accuracy: 0.9721\n",
            "Epoch 34/50\n",
            "68/68 [==============================] - 22s 321ms/step - loss: 0.0445 - accuracy: 0.9921 - val_loss: 0.2636 - val_accuracy: 0.9612\n",
            "Epoch 35/50\n",
            "68/68 [==============================] - 22s 320ms/step - loss: 0.0307 - accuracy: 0.9937 - val_loss: 0.3799 - val_accuracy: 0.9510\n",
            "Epoch 36/50\n",
            "68/68 [==============================] - 22s 320ms/step - loss: 0.0223 - accuracy: 0.9951 - val_loss: 0.2694 - val_accuracy: 0.9676\n",
            "Epoch 37/50\n",
            "68/68 [==============================] - 22s 319ms/step - loss: 0.0228 - accuracy: 0.9955 - val_loss: 0.3112 - val_accuracy: 0.9544\n",
            "Epoch 38/50\n",
            "68/68 [==============================] - 22s 320ms/step - loss: 0.0246 - accuracy: 0.9951 - val_loss: 0.3686 - val_accuracy: 0.9583\n",
            "Epoch 39/50\n",
            "68/68 [==============================] - 22s 320ms/step - loss: 0.0382 - accuracy: 0.9936 - val_loss: 0.4798 - val_accuracy: 0.9478\n",
            "Epoch 40/50\n",
            "68/68 [==============================] - 22s 320ms/step - loss: 0.0279 - accuracy: 0.9943 - val_loss: 0.2174 - val_accuracy: 0.9710\n",
            "Epoch 41/50\n",
            "68/68 [==============================] - 22s 325ms/step - loss: 0.0280 - accuracy: 0.9948 - val_loss: 0.4187 - val_accuracy: 0.9633\n",
            "Epoch 42/50\n",
            "68/68 [==============================] - 22s 321ms/step - loss: 0.0183 - accuracy: 0.9966 - val_loss: 0.2948 - val_accuracy: 0.9692\n",
            "Epoch 43/50\n",
            "68/68 [==============================] - 22s 319ms/step - loss: 0.0193 - accuracy: 0.9968 - val_loss: 0.2039 - val_accuracy: 0.9719\n",
            "Epoch 44/50\n",
            "68/68 [==============================] - 22s 319ms/step - loss: 0.0205 - accuracy: 0.9957 - val_loss: 0.5320 - val_accuracy: 0.9458\n",
            "Epoch 45/50\n",
            "68/68 [==============================] - 22s 320ms/step - loss: 0.0548 - accuracy: 0.9911 - val_loss: 0.2844 - val_accuracy: 0.9542\n",
            "Epoch 46/50\n",
            "68/68 [==============================] - 22s 319ms/step - loss: 0.0417 - accuracy: 0.9918 - val_loss: 0.2135 - val_accuracy: 0.9660\n",
            "Epoch 47/50\n",
            "68/68 [==============================] - 22s 319ms/step - loss: 0.0381 - accuracy: 0.9935 - val_loss: 0.2068 - val_accuracy: 0.9646\n",
            "Epoch 48/50\n",
            "68/68 [==============================] - 22s 320ms/step - loss: 0.0277 - accuracy: 0.9959 - val_loss: 0.3277 - val_accuracy: 0.9556\n",
            "Epoch 49/50\n",
            "68/68 [==============================] - 22s 319ms/step - loss: 0.0253 - accuracy: 0.9953 - val_loss: 0.2120 - val_accuracy: 0.9646\n",
            "Epoch 50/50\n",
            "68/68 [==============================] - 22s 319ms/step - loss: 0.0133 - accuracy: 0.9976 - val_loss: 0.2574 - val_accuracy: 0.9671\n"
          ]
        },
        {
          "output_type": "execute_result",
          "data": {
            "text/plain": [
              "<keras.callbacks.History at 0x7f3dc80dec10>"
            ]
          },
          "metadata": {},
          "execution_count": 6
        }
      ],
      "source": [
        "model.fit(x=x_train, y=y_train, batch_size=512,epochs=50,validation_data=(x_val,y_val))\n"
      ]
    },
    {
      "cell_type": "code",
      "execution_count": null,
      "metadata": {
        "colab": {
          "base_uri": "https://localhost:8080/"
        },
        "id": "NQIJO2isW4lY",
        "outputId": "b66dcdb1-1a0e-4d8d-f63f-ce1561e1378e"
      },
      "outputs": [
        {
          "output_type": "stream",
          "name": "stdout",
          "text": [
            "25/25 [==============================] - 3s 105ms/step - loss: 0.6334 - accuracy: 0.9411\n"
          ]
        },
        {
          "output_type": "execute_result",
          "data": {
            "text/plain": [
              "[0.6333549618721008, 0.9410926103591919]"
            ]
          },
          "metadata": {},
          "execution_count": 66
        }
      ],
      "source": [
        "model.evaluate(x= x_test , y= y_test, batch_size= 512 , verbose=1)"
      ]
    },
    {
      "cell_type": "code",
      "source": [
        "x1 = cv2.imread('/content/speedLimit50_2.png')\n",
        "x2 = cv2.imread('/content/wildAnimals31.png')\n",
        "x3 = cv2.imread('/content/dangerousLeft19.png')\n",
        "x4 = cv2.imread('/content/keepRight38.png')\n",
        "x5 = cv2.imread('/content/stop14.png')\n",
        "x6 = cv2.imread('/content/roadWork25.png')\n",
        "x1 = cv2.cvtColor(x1, cv2.COLOR_BGR2RGB)\n",
        "x2 = cv2.cvtColor(x2, cv2.COLOR_BGR2RGB)\n",
        "x3 = cv2.cvtColor(x3, cv2.COLOR_BGR2RGB)\n",
        "x4 = cv2.cvtColor(x4, cv2.COLOR_BGR2RGB)\n",
        "x5 = cv2.cvtColor(x5, cv2.COLOR_BGR2RGB)\n",
        "x6 = cv2.cvtColor(x6, cv2.COLOR_BGR2RGB)\n",
        "plot_im(x1, \"Speed Limit 50, class 2\")\n",
        "plot_im(x2, \"Animal Crossing,class 31\")\n",
        "plot_im(x3, \"Dangerous Left,class 19\")\n",
        "plot_im(x4, \"Keep Right,class 38\")\n",
        "plot_im(x5, \"STOP ,class 14\")\n",
        "plot_im(x6, \"Road Work,class 25\")"
      ],
      "metadata": {
        "id": "AMSV5xA6kVLV",
        "colab": {
          "base_uri": "https://localhost:8080/",
          "height": 1000
        },
        "outputId": "9c3cf063-8a7c-4ebb-f8fe-a28587033f6e"
      },
      "execution_count": null,
      "outputs": [
        {
          "output_type": "display_data",
          "data": {
            "text/plain": [
              "<Figure size 180x180 with 1 Axes>"
            ],
            "image/png": "[encoded data removed]"
          },
          "metadata": {}
        },
        {
          "output_type": "display_data",
          "data": {
            "text/plain": [
              "<Figure size 180x180 with 1 Axes>"
            ],
            "image/png": "[encoded data removed]"
          },
          "metadata": {}
        },
        {
          "output_type": "display_data",
          "data": {
            "text/plain": [
              "<Figure size 180x180 with 1 Axes>"
            ],
            "image/png": "[encoded data removed]"
          },
          "metadata": {}
        },
        {
          "output_type": "display_data",
          "data": {
            "text/plain": [
              "<Figure size 180x180 with 1 Axes>"
            ],
            "image/png": "[encoded data removed]"
          },
          "metadata": {}
        },
        {
          "output_type": "display_data",
          "data": {
            "text/plain": [
              "<Figure size 180x180 with 1 Axes>"
            ],
            "image/png": "[encoded data removed]"
          },
          "metadata": {}
        },
        {
          "output_type": "display_data",
          "data": {
            "text/plain": [
              "<Figure size 180x180 with 1 Axes>"
            ],
            "image/png": "[encoded data removed]"
          },
          "metadata": {}
        }
      ]
    },
    {
      "cell_type": "code",
      "execution_count": null,
      "metadata": {
        "colab": {
          "base_uri": "https://localhost:8080/"
        },
        "id": "mk3MJC3-W4ld",
        "outputId": "801609f5-41ac-42cf-f07f-afa049bc0ad5"
      },
      "outputs": [
        {
          "output_type": "execute_result",
          "data": {
            "text/plain": [
              "31"
            ]
          },
          "metadata": {},
          "execution_count": 84
        }
      ],
      "source": [
        "x1 = ('/content/speedLimit50_2.png') \n",
        "x2 = ('/content/wildAnimals31.png') \n",
        "x3 = ('/content/dangerousLeft19.png') #detected as class 29\n",
        "x4 = ('/content/keepRight38.png')\n",
        "x5 = ('/content/stop14.png')\n",
        "x6 = ('/content/roadWork25.png')\n",
        "x = load_img(x2)\n",
        "x = img_to_array(x)\n",
        "x = np.expand_dims(x, axis=0)\n",
        "y = model.predict(x)\n",
        "y.argmax()"
      ]
    },
    {
      "cell_type": "code",
      "source": [
        "x = load_img(x4)\n",
        "x = img_to_array(x)\n",
        "x = np.expand_dims(x, axis=0)\n",
        "y = model.predict(x)\n",
        "y.argmax()"
      ],
      "metadata": {
        "colab": {
          "base_uri": "https://localhost:8080/"
        },
        "id": "hxG3CPGYo_Dj",
        "outputId": "ecfdc1b5-6a4b-42d5-8bc2-8aca547a64d6"
      },
      "execution_count": null,
      "outputs": [
        {
          "output_type": "execute_result",
          "data": {
            "text/plain": [
              "38"
            ]
          },
          "metadata": {},
          "execution_count": 79
        }
      ]
    },
    {
      "cell_type": "code",
      "source": [
        "x = load_img(x5)\n",
        "x = img_to_array(x)\n",
        "x = np.expand_dims(x, axis=0)\n",
        "y = model.predict(x)\n",
        "y.argmax()"
      ],
      "metadata": {
        "colab": {
          "base_uri": "https://localhost:8080/"
        },
        "id": "W48hJKiTpF12",
        "outputId": "1f209dff-e4f9-49b5-fb3e-56608a33119d"
      },
      "execution_count": null,
      "outputs": [
        {
          "output_type": "execute_result",
          "data": {
            "text/plain": [
              "14"
            ]
          },
          "metadata": {},
          "execution_count": 80
        }
      ]
    },
    {
      "cell_type": "code",
      "source": [
        "x = load_img(x6)\n",
        "x = img_to_array(x)\n",
        "x = np.expand_dims(x, axis=0)\n",
        "y = model.predict(x)\n",
        "y.argmax()"
      ],
      "metadata": {
        "colab": {
          "base_uri": "https://localhost:8080/"
        },
        "id": "ikswWgOypJVa",
        "outputId": "a831dfc2-d982-481e-cf7f-9630e6258cce"
      },
      "execution_count": null,
      "outputs": [
        {
          "output_type": "execute_result",
          "data": {
            "text/plain": [
              "25"
            ]
          },
          "metadata": {},
          "execution_count": 81
        }
      ]
    },
    {
      "cell_type": "code",
      "source": [
        "x = load_img(x1)\n",
        "x = img_to_array(x)\n",
        "x = np.expand_dims(x, axis=0)\n",
        "y = model.predict(x)\n",
        "y.argmax()"
      ],
      "metadata": {
        "colab": {
          "base_uri": "https://localhost:8080/"
        },
        "id": "uXPNNey6pRIk",
        "outputId": "66e91e72-dc4c-4cf7-c55b-5af6e15a6c16"
      },
      "execution_count": null,
      "outputs": [
        {
          "output_type": "execute_result",
          "data": {
            "text/plain": [
              "2"
            ]
          },
          "metadata": {},
          "execution_count": 82
        }
      ]
    },
    {
      "cell_type": "code",
      "source": [
        "x = load_img(x3)\n",
        "x = img_to_array(x)\n",
        "x = np.expand_dims(x, axis=0)\n",
        "y = model.predict(x)\n",
        "y.argmax()"
      ],
      "metadata": {
        "colab": {
          "base_uri": "https://localhost:8080/"
        },
        "id": "yNLGCmzu8mfu",
        "outputId": "3501f34b-aac1-4883-acf2-5615d456bd66"
      },
      "execution_count": null,
      "outputs": [
        {
          "output_type": "execute_result",
          "data": {
            "text/plain": [
              "24"
            ]
          },
          "metadata": {},
          "execution_count": 83
        }
      ]
    },
    {
      "cell_type": "code",
      "execution_count": null,
      "metadata": {
        "colab": {
          "base_uri": "https://localhost:8080/"
        },
        "id": "QkW7cDwzW4le",
        "outputId": "25b04e83-1746-42d7-86c6-32bf9e0cd72e"
      },
      "outputs": [
        {
          "output_type": "stream",
          "name": "stdout",
          "text": [
            "Model: \"sequential\"\n",
            "_________________________________________________________________\n",
            " Layer (type)                Output Shape              Param #   \n",
            "=================================================================\n",
            " conv2d (Conv2D)             (None, 32, 32, 256)       19456     \n",
            "                                                                 \n",
            " max_pooling2d (MaxPooling2D  (None, 16, 16, 256)      0         \n",
            " )                                                               \n",
            "                                                                 \n",
            " conv2d_1 (Conv2D)           (None, 16, 16, 512)       3277312   \n",
            "                                                                 \n",
            " max_pooling2d_1 (MaxPooling  (None, 8, 8, 512)        0         \n",
            " 2D)                                                             \n",
            "                                                                 \n",
            " conv2d_2 (Conv2D)           (None, 8, 8, 1024)        13108224  \n",
            "                                                                 \n",
            " max_pooling2d_2 (MaxPooling  (None, 4, 4, 1024)       0         \n",
            " 2D)                                                             \n",
            "                                                                 \n",
            " flatten (Flatten)           (None, 16384)             0         \n",
            "                                                                 \n",
            " dense (Dense)               (None, 1024)              16778240  \n",
            "                                                                 \n",
            " dropout (Dropout)           (None, 1024)              0         \n",
            "                                                                 \n",
            " dense_1 (Dense)             (None, 512)               524800    \n",
            "                                                                 \n",
            " dropout_1 (Dropout)         (None, 512)               0         \n",
            "                                                                 \n",
            " dense_2 (Dense)             (None, 256)               131328    \n",
            "                                                                 \n",
            " dropout_2 (Dropout)         (None, 256)               0         \n",
            "                                                                 \n",
            " dense_3 (Dense)             (None, 100)               25700     \n",
            "                                                                 \n",
            " dense_4 (Dense)             (None, 43)                4343      \n",
            "                                                                 \n",
            "=================================================================\n",
            "Total params: 33,869,403\n",
            "Trainable params: 33,869,403\n",
            "Non-trainable params: 0\n",
            "_________________________________________________________________\n"
          ]
        }
      ],
      "source": [
        "model.summary()"
      ]
    },
    {
      "cell_type": "code",
      "execution_count": null,
      "metadata": {
        "colab": {
          "base_uri": "https://localhost:8080/"
        },
        "id": "LMlBm9sMW4lf",
        "outputId": "5f869f34-63a8-465b-e682-9462aef82512"
      },
      "outputs": [
        {
          "output_type": "stream",
          "name": "stdout",
          "text": [
            "INFO:tensorflow:Assets written to: /content/model_dir/assets\n"
          ]
        },
        {
          "output_type": "stream",
          "name": "stderr",
          "text": [
            "INFO:tensorflow:Assets written to: /content/model_dir/assets\n"
          ]
        }
      ],
      "source": [
        "model.save(model_dir)"
      ]
    },
    {
      "cell_type": "code",
      "execution_count": null,
      "metadata": {
        "id": "xoaexIdsW4ld"
      },
      "outputs": [],
      "source": [
        "model = load_model(model_dir)"
      ]
    },
    {
      "cell_type": "code",
      "source": [
        ""
      ],
      "metadata": {
        "id": "n4IMldYXxPKw"
      },
      "execution_count": null,
      "outputs": []
    }
  ],
  "metadata": {
    "kernelspec": {
      "display_name": "Python 3",
      "language": "python",
      "name": "python3"
    },
    "language_info": {
      "codemirror_mode": {
        "name": "ipython",
        "version": 3
      },
      "file_extension": ".py",
      "mimetype": "text/x-python",
      "name": "python",
      "nbconvert_exporter": "python",
      "pygments_lexer": "ipython3",
      "version": "3.7.9"
    },
    "colab": {
      "name": "Milestone 4.ipynb",
      "provenance": [],
      "collapsed_sections": []
    },
    "accelerator": "GPU",
    "gpuClass": "standard"
  },
  "nbformat": 4,
  "nbformat_minor": 0
}